{
 "cells": [
  {
   "cell_type": "code",
   "execution_count": null,
   "metadata": {
    "execution": {
     "iopub.execute_input": "2022-05-07T17:06:39.344822Z",
     "iopub.status.busy": "2022-05-07T17:06:39.344401Z",
     "iopub.status.idle": "2022-05-07T17:06:48.730003Z",
     "shell.execute_reply": "2022-05-07T17:06:48.728824Z",
     "shell.execute_reply.started": "2022-05-07T17:06:39.344786Z"
    }
   },
   "outputs": [],
   "source": [
    "pip install tensorflow_addons"
   ]
  },
  {
   "cell_type": "code",
   "execution_count": null,
   "metadata": {
    "_kg_hide-input": true,
    "execution": {
     "iopub.execute_input": "2022-05-07T17:06:48.735182Z",
     "iopub.status.busy": "2022-05-07T17:06:48.734653Z",
     "iopub.status.idle": "2022-05-07T17:06:55.874666Z",
     "shell.execute_reply": "2022-05-07T17:06:55.873594Z",
     "shell.execute_reply.started": "2022-05-07T17:06:48.735127Z"
    },
    "papermill": {
     "duration": 1.21262,
     "end_time": "2020-08-19T19:55:59.269862",
     "exception": false,
     "start_time": "2020-08-19T19:55:58.057242",
     "status": "completed"
    },
    "tags": []
   },
   "outputs": [],
   "source": [
    "import numpy as np\n",
    "import pandas as pd\n",
    "import os\n",
    "import glob\n",
    "import matplotlib\n",
    "import seaborn as sns\n",
    "import matplotlib.pyplot as plt\n",
    "\n",
    "IMG_SIZE = 224\n",
    "BATCH_SIZE = 32\n",
    "NO_EPOCHS = 50\n",
    "NUM_CLASSES = 2\n",
    "\n",
    "DATA_FOLDER = \"../input/ocular-disease-recognition-odir5k/ODIR-5K/ODIR-5K/Training Images\"\n",
    "\n",
    "from sklearn.model_selection import train_test_split\n",
    "from sklearn.metrics import classification_report\n",
    "from tqdm import tqdm\n",
    "import cv2 as cv\n",
    "from random import shuffle \n",
    "from IPython.display import SVG\n",
    "from keras.utils.vis_utils import model_to_dot\n",
    "from keras.utils import plot_model\n",
    "from tensorflow.keras.applications import ResNet50\n",
    "from tensorflow.python.keras.models import Sequential\n",
    "from tensorflow.python.keras.layers import Dense, Flatten, GlobalAveragePooling2D\n",
    "import tensorflow_addons as tfa\n",
    "import tensorflow as tf\n",
    "\n",
    "%matplotlib inline "
   ]
  },
  {
   "cell_type": "markdown",
   "metadata": {
    "papermill": {
     "duration": 0.014604,
     "end_time": "2020-08-19T19:56:03.563063",
     "exception": false,
     "start_time": "2020-08-19T19:56:03.548459",
     "status": "completed"
    },
    "tags": []
   },
   "source": [
    "\n",
    "## Load tabelar data (Excel)"
   ]
  },
  {
   "cell_type": "code",
   "execution_count": null,
   "metadata": {
    "_cell_guid": "79c7e3d0-c299-4dcb-8224-4455121ee9b0",
    "_kg_hide-input": true,
    "_uuid": "d629ff2d2480ee46fbb7e2d37f6b5fab8052498a",
    "execution": {
     "iopub.execute_input": "2022-05-07T17:06:55.876876Z",
     "iopub.status.busy": "2022-05-07T17:06:55.876232Z",
     "iopub.status.idle": "2022-05-07T17:06:57.153909Z",
     "shell.execute_reply": "2022-05-07T17:06:57.152835Z",
     "shell.execute_reply.started": "2022-05-07T17:06:55.876826Z"
    },
    "papermill": {
     "duration": 1.457065,
     "end_time": "2020-08-19T19:56:05.035245",
     "exception": false,
     "start_time": "2020-08-19T19:56:03.57818",
     "status": "completed"
    },
    "tags": []
   },
   "outputs": [],
   "source": [
    "data_df = pd.read_excel(open(\"../input/ocular-disease-recognition-odir5k/ODIR-5K/ODIR-5K/data.xlsx\", 'rb'), sheet_name='Sheet1')  "
   ]
  },
  {
   "cell_type": "code",
   "execution_count": null,
   "metadata": {
    "_kg_hide-input": true,
    "execution": {
     "iopub.execute_input": "2022-05-07T17:06:57.155881Z",
     "iopub.status.busy": "2022-05-07T17:06:57.155479Z",
     "iopub.status.idle": "2022-05-07T17:06:57.162482Z",
     "shell.execute_reply": "2022-05-07T17:06:57.161343Z",
     "shell.execute_reply.started": "2022-05-07T17:06:57.155835Z"
    },
    "papermill": {
     "duration": 0.026803,
     "end_time": "2020-08-19T19:56:05.176836",
     "exception": false,
     "start_time": "2020-08-19T19:56:05.150033",
     "status": "completed"
    },
    "tags": []
   },
   "outputs": [],
   "source": [
    "data_df.columns = [\"id\", 'age', \"sex\", \"left_fundus\", \"right_fundus\", \"left_diagnosys\", \"right_diagnosys\", \"normal\",\n",
    "                  \"diabetes\", \"glaucoma\", \"cataract\", \"amd\", \"hypertension\", \"myopia\", \"other\"]"
   ]
  },
  {
   "cell_type": "markdown",
   "metadata": {
    "papermill": {
     "duration": 0.015044,
     "end_time": "2020-08-19T19:56:05.207439",
     "exception": false,
     "start_time": "2020-08-19T19:56:05.192395",
     "status": "completed"
    },
    "tags": []
   },
   "source": [
    "# Train images\n",
    "\n",
    "Let's check which images have the `Cataract` flag positive and which images have the eye diagnosys associated clearly stating either `cataract` or `normal`\n"
   ]
  },
  {
   "cell_type": "code",
   "execution_count": null,
   "metadata": {
    "execution": {
     "iopub.execute_input": "2022-05-07T17:06:57.167544Z",
     "iopub.status.busy": "2022-05-07T17:06:57.166679Z",
     "iopub.status.idle": "2022-05-07T17:06:57.20101Z",
     "shell.execute_reply": "2022-05-07T17:06:57.200089Z",
     "shell.execute_reply.started": "2022-05-07T17:06:57.167489Z"
    }
   },
   "outputs": [],
   "source": [
    "print(data_df.loc[(data_df.cataract==1)].shape)\n",
    "print(data_df.loc[data_df.cataract==0].shape)"
   ]
  },
  {
   "cell_type": "code",
   "execution_count": null,
   "metadata": {
    "execution": {
     "iopub.execute_input": "2022-05-07T17:06:57.205607Z",
     "iopub.status.busy": "2022-05-07T17:06:57.205234Z",
     "iopub.status.idle": "2022-05-07T17:06:57.221776Z",
     "shell.execute_reply": "2022-05-07T17:06:57.220409Z",
     "shell.execute_reply.started": "2022-05-07T17:06:57.20557Z"
    }
   },
   "outputs": [],
   "source": [
    "data_df.loc[(data_df.cataract==1)]['left_diagnosys'].value_counts()"
   ]
  },
  {
   "cell_type": "code",
   "execution_count": null,
   "metadata": {
    "execution": {
     "iopub.execute_input": "2022-05-07T17:06:57.224538Z",
     "iopub.status.busy": "2022-05-07T17:06:57.223895Z",
     "iopub.status.idle": "2022-05-07T17:06:57.23827Z",
     "shell.execute_reply": "2022-05-07T17:06:57.237061Z",
     "shell.execute_reply.started": "2022-05-07T17:06:57.224485Z"
    }
   },
   "outputs": [],
   "source": [
    "data_df.loc[(data_df.cataract==1)]['right_diagnosys'].value_counts()"
   ]
  },
  {
   "cell_type": "code",
   "execution_count": null,
   "metadata": {
    "execution": {
     "iopub.execute_input": "2022-05-07T17:06:57.240835Z",
     "iopub.status.busy": "2022-05-07T17:06:57.239993Z",
     "iopub.status.idle": "2022-05-07T17:06:57.247401Z",
     "shell.execute_reply": "2022-05-07T17:06:57.246122Z",
     "shell.execute_reply.started": "2022-05-07T17:06:57.24078Z"
    }
   },
   "outputs": [],
   "source": [
    "def has_cataract_mentioned(text):\n",
    "    if 'cataract' in text:\n",
    "        return 1\n",
    "    else:\n",
    "        return 0"
   ]
  },
  {
   "cell_type": "code",
   "execution_count": null,
   "metadata": {
    "execution": {
     "iopub.execute_input": "2022-05-07T17:06:57.250619Z",
     "iopub.status.busy": "2022-05-07T17:06:57.249721Z",
     "iopub.status.idle": "2022-05-07T17:06:57.284575Z",
     "shell.execute_reply": "2022-05-07T17:06:57.282719Z",
     "shell.execute_reply.started": "2022-05-07T17:06:57.250528Z"
    }
   },
   "outputs": [],
   "source": [
    "data_df['le_cataract'] = data_df['left_diagnosys'].apply(lambda x: has_cataract_mentioned(x))\n",
    "data_df['re_cataract'] = data_df['right_diagnosys'].apply(lambda x: has_cataract_mentioned(x))"
   ]
  },
  {
   "cell_type": "code",
   "execution_count": null,
   "metadata": {
    "execution": {
     "iopub.execute_input": "2022-05-07T17:06:57.288944Z",
     "iopub.status.busy": "2022-05-07T17:06:57.288481Z",
     "iopub.status.idle": "2022-05-07T17:06:57.332034Z",
     "shell.execute_reply": "2022-05-07T17:06:57.328511Z",
     "shell.execute_reply.started": "2022-05-07T17:06:57.288892Z"
    }
   },
   "outputs": [],
   "source": [
    "cataract_le_list = data_df.loc[(data_df.cataract==1) & (data_df.le_cataract==1)]['left_fundus'].values\n",
    "cataract_re_list = data_df.loc[(data_df.cataract==1) & (data_df.re_cataract==1)]['right_fundus'].values\n",
    "print(len(cataract_le_list), len(cataract_re_list))\n",
    "non_cataract_le_list = data_df.loc[(data_df.cataract==0) & (data_df.left_diagnosys==\"normal fundus\")]['left_fundus'].sample(150, random_state=314).values\n",
    "non_cataract_re_list = data_df.loc[(data_df.cataract==0) & (data_df.right_diagnosys==\"normal fundus\")]['right_fundus'].sample(150, random_state=314).values\n",
    "print(len(non_cataract_le_list), len(non_cataract_re_list))"
   ]
  },
  {
   "cell_type": "code",
   "execution_count": null,
   "metadata": {
    "execution": {
     "iopub.execute_input": "2022-05-07T17:06:57.339076Z",
     "iopub.status.busy": "2022-05-07T17:06:57.336996Z",
     "iopub.status.idle": "2022-05-07T17:06:57.357661Z",
     "shell.execute_reply": "2022-05-07T17:06:57.356214Z",
     "shell.execute_reply.started": "2022-05-07T17:06:57.33888Z"
    }
   },
   "outputs": [],
   "source": [
    "cataract_list = np.concatenate((cataract_le_list, cataract_re_list), axis = 0)\n",
    "non_cataract_list = np.concatenate((non_cataract_le_list, non_cataract_re_list), axis = 0)\n",
    "print(len(non_cataract_list), len(cataract_list))"
   ]
  },
  {
   "cell_type": "code",
   "execution_count": null,
   "metadata": {
    "execution": {
     "iopub.execute_input": "2022-05-07T17:06:57.360803Z",
     "iopub.status.busy": "2022-05-07T17:06:57.359865Z",
     "iopub.status.idle": "2022-05-07T17:06:57.932318Z",
     "shell.execute_reply": "2022-05-07T17:06:57.931218Z",
     "shell.execute_reply.started": "2022-05-07T17:06:57.360713Z"
    }
   },
   "outputs": [],
   "source": [
    "print(len(os.listdir(DATA_FOLDER)))"
   ]
  },
  {
   "cell_type": "code",
   "execution_count": null,
   "metadata": {
    "execution": {
     "iopub.execute_input": "2022-05-07T17:06:57.934406Z",
     "iopub.status.busy": "2022-05-07T17:06:57.933947Z",
     "iopub.status.idle": "2022-05-07T17:06:57.945427Z",
     "shell.execute_reply": "2022-05-07T17:06:57.944071Z",
     "shell.execute_reply.started": "2022-05-07T17:06:57.934356Z"
    }
   },
   "outputs": [],
   "source": [
    "def label_image(label):\n",
    "    if label == 1:\n",
    "        return [1,0]\n",
    "    elif label == 0: \n",
    "        return [0,1]\n",
    "\n",
    "def process_data(data_image_list, DATA_FOLDER, is_cataract):\n",
    "    data_df = []\n",
    "    for img in tqdm(data_image_list):\n",
    "        path = os.path.join(DATA_FOLDER,img)\n",
    "        label = label_image(is_cataract)\n",
    "        img = cv.imread(path,cv.IMREAD_COLOR)\n",
    "        img = cv.resize(img, (IMG_SIZE,IMG_SIZE))\n",
    "        data_df.append([np.array(img),np.array(label)])\n",
    "    shuffle(data_df)\n",
    "    return data_df"
   ]
  },
  {
   "cell_type": "code",
   "execution_count": null,
   "metadata": {
    "execution": {
     "iopub.execute_input": "2022-05-07T17:06:57.948615Z",
     "iopub.status.busy": "2022-05-07T17:06:57.947756Z",
     "iopub.status.idle": "2022-05-07T17:07:18.999866Z",
     "shell.execute_reply": "2022-05-07T17:07:18.997412Z",
     "shell.execute_reply.started": "2022-05-07T17:06:57.948558Z"
    }
   },
   "outputs": [],
   "source": [
    "cat_df = process_data(cataract_list, DATA_FOLDER, 1)"
   ]
  },
  {
   "cell_type": "code",
   "execution_count": null,
   "metadata": {
    "execution": {
     "iopub.execute_input": "2022-05-07T17:07:19.002081Z",
     "iopub.status.busy": "2022-05-07T17:07:19.001449Z",
     "iopub.status.idle": "2022-05-07T17:07:38.63061Z",
     "shell.execute_reply": "2022-05-07T17:07:38.62943Z",
     "shell.execute_reply.started": "2022-05-07T17:07:19.00203Z"
    }
   },
   "outputs": [],
   "source": [
    "cat_no_df = process_data(non_cataract_list, DATA_FOLDER, 0)"
   ]
  },
  {
   "cell_type": "code",
   "execution_count": null,
   "metadata": {
    "execution": {
     "iopub.execute_input": "2022-05-07T17:07:38.632498Z",
     "iopub.status.busy": "2022-05-07T17:07:38.632086Z",
     "iopub.status.idle": "2022-05-07T17:07:40.256897Z",
     "shell.execute_reply": "2022-05-07T17:07:40.255325Z",
     "shell.execute_reply.started": "2022-05-07T17:07:38.632437Z"
    }
   },
   "outputs": [],
   "source": [
    "def show_images(data, isTest=False):\n",
    "    f, ax = plt.subplots(5,5, figsize=(15,15))\n",
    "    for i,data in enumerate(data[:25]):\n",
    "        img_num = data[1]\n",
    "        img_data = data[0]\n",
    "        label = np.argmax(img_num)\n",
    "        if label  == 0: \n",
    "            str_label='Cataract'\n",
    "        elif label == 1: \n",
    "            str_label='No Cataract'\n",
    "        if(isTest):\n",
    "            str_label=\"None\"\n",
    "        ax[i//5, i%5].imshow(img_data)\n",
    "        ax[i//5, i%5].axis('off')\n",
    "        ax[i//5, i%5].set_title(\"Label: {}\".format(str_label))\n",
    "    plt.show()\n",
    "\n",
    "show_images(cat_df)"
   ]
  },
  {
   "cell_type": "code",
   "execution_count": null,
   "metadata": {
    "execution": {
     "iopub.execute_input": "2022-05-07T17:07:40.259369Z",
     "iopub.status.busy": "2022-05-07T17:07:40.258805Z",
     "iopub.status.idle": "2022-05-07T17:07:41.878084Z",
     "shell.execute_reply": "2022-05-07T17:07:41.876876Z",
     "shell.execute_reply.started": "2022-05-07T17:07:40.259322Z"
    }
   },
   "outputs": [],
   "source": [
    "show_images(cat_no_df)"
   ]
  },
  {
   "cell_type": "code",
   "execution_count": null,
   "metadata": {
    "execution": {
     "iopub.execute_input": "2022-05-07T17:07:41.885356Z",
     "iopub.status.busy": "2022-05-07T17:07:41.884767Z",
     "iopub.status.idle": "2022-05-07T17:07:43.554023Z",
     "shell.execute_reply": "2022-05-07T17:07:43.553037Z",
     "shell.execute_reply.started": "2022-05-07T17:07:41.885294Z"
    }
   },
   "outputs": [],
   "source": [
    "train = cat_df + cat_no_df\n",
    "shuffle(train)\n",
    "show_images(train)"
   ]
  },
  {
   "cell_type": "code",
   "execution_count": null,
   "metadata": {
    "execution": {
     "iopub.execute_input": "2022-05-07T17:07:43.555948Z",
     "iopub.status.busy": "2022-05-07T17:07:43.555402Z",
     "iopub.status.idle": "2022-05-07T17:07:43.599514Z",
     "shell.execute_reply": "2022-05-07T17:07:43.598588Z",
     "shell.execute_reply.started": "2022-05-07T17:07:43.555905Z"
    }
   },
   "outputs": [],
   "source": [
    "X = np.array([i[0] for i in train]).reshape(-1,IMG_SIZE,IMG_SIZE,3)\n",
    "y = np.array([i[1] for i in train])"
   ]
  },
  {
   "cell_type": "markdown",
   "metadata": {},
   "source": [
    "# Train model"
   ]
  },
  {
   "cell_type": "code",
   "execution_count": null,
   "metadata": {
    "execution": {
     "iopub.execute_input": "2022-05-07T17:07:43.601954Z",
     "iopub.status.busy": "2022-05-07T17:07:43.601513Z",
     "iopub.status.idle": "2022-05-07T17:07:50.124645Z",
     "shell.execute_reply": "2022-05-07T17:07:50.123654Z",
     "shell.execute_reply.started": "2022-05-07T17:07:43.601904Z"
    }
   },
   "outputs": [],
   "source": [
    "model = Sequential()\n",
    "model.add(ResNet50(include_top=False, pooling='max', weights='imagenet'))\n",
    "model.add(Dense(NUM_CLASSES, activation='softmax'))\n",
    "model.layers[0].trainable = True"
   ]
  },
  {
   "cell_type": "code",
   "execution_count": null,
   "metadata": {
    "execution": {
     "iopub.execute_input": "2022-05-07T17:07:50.126766Z",
     "iopub.status.busy": "2022-05-07T17:07:50.126277Z",
     "iopub.status.idle": "2022-05-07T17:07:50.157365Z",
     "shell.execute_reply": "2022-05-07T17:07:50.156276Z",
     "shell.execute_reply.started": "2022-05-07T17:07:50.126714Z"
    }
   },
   "outputs": [],
   "source": [
    "opt = tfa.optimizers.LazyAdam()\n",
    "loss = tf.keras.losses.CategoricalCrossentropy(label_smoothing=0.025)\n",
    "model.compile(optimizer='sgd', loss=loss, metrics=['accuracy'])"
   ]
  },
  {
   "cell_type": "code",
   "execution_count": null,
   "metadata": {
    "execution": {
     "iopub.execute_input": "2022-05-07T17:07:50.162184Z",
     "iopub.status.busy": "2022-05-07T17:07:50.161839Z",
     "iopub.status.idle": "2022-05-07T17:07:50.195833Z",
     "shell.execute_reply": "2022-05-07T17:07:50.194739Z",
     "shell.execute_reply.started": "2022-05-07T17:07:50.162148Z"
    }
   },
   "outputs": [],
   "source": [
    "model.summary()"
   ]
  },
  {
   "cell_type": "code",
   "execution_count": null,
   "metadata": {
    "execution": {
     "iopub.execute_input": "2022-05-07T17:07:50.197826Z",
     "iopub.status.busy": "2022-05-07T17:07:50.197383Z",
     "iopub.status.idle": "2022-05-07T17:07:50.797284Z",
     "shell.execute_reply": "2022-05-07T17:07:50.796262Z",
     "shell.execute_reply.started": "2022-05-07T17:07:50.197779Z"
    }
   },
   "outputs": [],
   "source": [
    "plot_model(model, to_file='model.png')\n",
    "SVG(model_to_dot(model).create(prog='dot', format='svg'))"
   ]
  },
  {
   "cell_type": "code",
   "execution_count": null,
   "metadata": {
    "execution": {
     "iopub.execute_input": "2022-05-07T17:07:50.8008Z",
     "iopub.status.busy": "2022-05-07T17:07:50.799891Z",
     "iopub.status.idle": "2022-05-07T17:07:50.85782Z",
     "shell.execute_reply": "2022-05-07T17:07:50.856806Z",
     "shell.execute_reply.started": "2022-05-07T17:07:50.800734Z"
    }
   },
   "outputs": [],
   "source": [
    "X_train, X_val, y_train, y_val = train_test_split(X, y, test_size=0.2, random_state=42,stratify=y)"
   ]
  },
  {
   "cell_type": "markdown",
   "metadata": {},
   "source": [
    "## Train model"
   ]
  },
  {
   "cell_type": "code",
   "execution_count": null,
   "metadata": {
    "execution": {
     "iopub.execute_input": "2022-05-07T17:07:50.860347Z",
     "iopub.status.busy": "2022-05-07T17:07:50.859833Z",
     "iopub.status.idle": "2022-05-07T17:10:20.218818Z",
     "shell.execute_reply": "2022-05-07T17:10:20.217804Z",
     "shell.execute_reply.started": "2022-05-07T17:07:50.860282Z"
    }
   },
   "outputs": [],
   "source": [
    "train_model = model.fit(X_train, y_train,\n",
    "                  batch_size=BATCH_SIZE,\n",
    "                  epochs=NO_EPOCHS,\n",
    "                  verbose=1,\n",
    "                  validation_data=(X_val, y_val))"
   ]
  },
  {
   "cell_type": "markdown",
   "metadata": {},
   "source": [
    "## Validation results"
   ]
  },
  {
   "cell_type": "code",
   "execution_count": null,
   "metadata": {
    "execution": {
     "iopub.execute_input": "2022-05-07T17:10:20.223016Z",
     "iopub.status.busy": "2022-05-07T17:10:20.222524Z",
     "iopub.status.idle": "2022-05-07T17:10:20.617848Z",
     "shell.execute_reply": "2022-05-07T17:10:20.616685Z",
     "shell.execute_reply.started": "2022-05-07T17:10:20.222975Z"
    }
   },
   "outputs": [],
   "source": [
    "def plot_accuracy_and_loss(train_model):\n",
    "    hist = train_model.history\n",
    "    acc = hist['accuracy']\n",
    "    val_acc = hist['val_accuracy']\n",
    "    loss = hist['loss']\n",
    "    val_loss = hist['val_loss']\n",
    "    epochs = range(len(acc))\n",
    "    f, ax = plt.subplots(1,2, figsize=(14,6))\n",
    "    ax[0].plot(epochs, acc, 'g', label='Training accuracy')\n",
    "    ax[0].plot(epochs, val_acc, 'r', label='Validation accuracy')\n",
    "    ax[0].set_title('Training and validation accuracy')\n",
    "    ax[0].legend()\n",
    "    ax[1].plot(epochs, loss, 'g', label='Training loss')\n",
    "    ax[1].plot(epochs, val_loss, 'r', label='Validation loss')\n",
    "    ax[1].set_title('Training and validation loss')\n",
    "    ax[1].legend()\n",
    "    plt.show()\n",
    "plot_accuracy_and_loss(train_model)"
   ]
  },
  {
   "cell_type": "code",
   "execution_count": null,
   "metadata": {
    "execution": {
     "iopub.execute_input": "2022-05-07T17:10:20.620228Z",
     "iopub.status.busy": "2022-05-07T17:10:20.619572Z",
     "iopub.status.idle": "2022-05-07T17:10:20.884325Z",
     "shell.execute_reply": "2022-05-07T17:10:20.883239Z",
     "shell.execute_reply.started": "2022-05-07T17:10:20.620174Z"
    }
   },
   "outputs": [],
   "source": [
    "score = model.evaluate(X_val, y_val, verbose=0)\n",
    "print('Validation loss:', score[0])\n",
    "print('Validation accuracy:', score[1])"
   ]
  },
  {
   "cell_type": "code",
   "execution_count": null,
   "metadata": {
    "execution": {
     "iopub.execute_input": "2022-05-07T17:10:20.887343Z",
     "iopub.status.busy": "2022-05-07T17:10:20.886696Z",
     "iopub.status.idle": "2022-05-07T17:10:22.173823Z",
     "shell.execute_reply": "2022-05-07T17:10:22.172889Z",
     "shell.execute_reply.started": "2022-05-07T17:10:20.887292Z"
    }
   },
   "outputs": [],
   "source": [
    "#get the predictions for the test data\n",
    "predicted_classes = model.predict_classes(X_val)\n",
    "#get the indices to be plotted\n",
    "y_true = np.argmax(y_val,axis=1)"
   ]
  },
  {
   "cell_type": "code",
   "execution_count": null,
   "metadata": {
    "execution": {
     "iopub.execute_input": "2022-05-07T17:10:22.175803Z",
     "iopub.status.busy": "2022-05-07T17:10:22.175353Z",
     "iopub.status.idle": "2022-05-07T17:10:22.182991Z",
     "shell.execute_reply": "2022-05-07T17:10:22.181763Z",
     "shell.execute_reply.started": "2022-05-07T17:10:22.175758Z"
    }
   },
   "outputs": [],
   "source": [
    "correct = np.nonzero(predicted_classes==y_true)[0]\n",
    "incorrect = np.nonzero(predicted_classes!=y_true)[0]"
   ]
  },
  {
   "cell_type": "code",
   "execution_count": null,
   "metadata": {
    "execution": {
     "iopub.execute_input": "2022-05-07T17:10:22.186174Z",
     "iopub.status.busy": "2022-05-07T17:10:22.185312Z",
     "iopub.status.idle": "2022-05-07T17:10:22.202389Z",
     "shell.execute_reply": "2022-05-07T17:10:22.200719Z",
     "shell.execute_reply.started": "2022-05-07T17:10:22.186122Z"
    }
   },
   "outputs": [],
   "source": [
    "target_names = [\"Cataract\", \"Normal\"]\n",
    "print(classification_report(y_true, predicted_classes, target_names=target_names))"
   ]
  },
  {
   "cell_type": "code",
   "execution_count": null,
   "metadata": {
    "execution": {
     "iopub.execute_input": "2022-05-07T17:11:17.319428Z",
     "iopub.status.busy": "2022-05-07T17:11:17.319018Z",
     "iopub.status.idle": "2022-05-07T17:11:17.834391Z",
     "shell.execute_reply": "2022-05-07T17:11:17.833408Z",
     "shell.execute_reply.started": "2022-05-07T17:11:17.31939Z"
    }
   },
   "outputs": [],
   "source": [
    "model.save(\"resnet.h5\")"
   ]
  }
 ],
 "metadata": {
  "kernelspec": {
   "display_name": "Python 3",
   "language": "python",
   "name": "python3"
  },
  "language_info": {
   "codemirror_mode": {
    "name": "ipython",
    "version": 3
   },
   "file_extension": ".py",
   "mimetype": "text/x-python",
   "name": "python",
   "nbconvert_exporter": "python",
   "pygments_lexer": "ipython3",
   "version": "3.9.7"
  }
 },
 "nbformat": 4,
 "nbformat_minor": 4
}
