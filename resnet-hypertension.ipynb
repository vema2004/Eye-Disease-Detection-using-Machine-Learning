{
 "cells": [
  {
   "cell_type": "code",
   "execution_count": 1,
   "metadata": {
    "execution": {
     "iopub.execute_input": "2022-05-10T11:39:45.104258Z",
     "iopub.status.busy": "2022-05-10T11:39:45.104023Z",
     "iopub.status.idle": "2022-05-10T11:39:57.948770Z",
     "shell.execute_reply": "2022-05-10T11:39:57.947889Z",
     "shell.execute_reply.started": "2022-05-10T11:39:45.104192Z"
    }
   },
   "outputs": [],
   "source": [
    "pip install openpyxl"
   ]
  },
  {
   "cell_type": "code",
   "execution_count": 2,
   "metadata": {
    "execution": {
     "iopub.execute_input": "2022-05-10T11:40:01.955299Z",
     "iopub.status.busy": "2022-05-10T11:40:01.955036Z",
     "iopub.status.idle": "2022-05-10T11:41:35.444353Z",
     "shell.execute_reply": "2022-05-10T11:41:35.443473Z",
     "shell.execute_reply.started": "2022-05-10T11:40:01.955269Z"
    }
   },
   "outputs": [],
   "source": [
    "pip install tensorflow==2.4.2"
   ]
  },
  {
   "cell_type": "code",
   "execution_count": 5,
   "metadata": {
    "execution": {
     "iopub.execute_input": "2022-05-10T11:42:12.185885Z",
     "iopub.status.busy": "2022-05-10T11:42:12.185620Z",
     "iopub.status.idle": "2022-05-10T11:42:23.615784Z",
     "shell.execute_reply": "2022-05-10T11:42:23.614913Z",
     "shell.execute_reply.started": "2022-05-10T11:42:12.185855Z"
    }
   },
   "outputs": [],
   "source": [
    "pip install keras==2.4.2"
   ]
  },
  {
   "cell_type": "code",
   "execution_count": 6,
   "metadata": {
    "execution": {
     "iopub.execute_input": "2022-05-10T11:42:31.386431Z",
     "iopub.status.busy": "2022-05-10T11:42:31.386155Z",
     "iopub.status.idle": "2022-05-10T11:42:31.509670Z",
     "shell.execute_reply": "2022-05-10T11:42:31.508977Z",
     "shell.execute_reply.started": "2022-05-10T11:42:31.386398Z"
    }
   },
   "outputs": [],
   "source": [
    "import numpy as np\n",
    "import pandas as pd\n",
    "import os\n",
    "import glob\n",
    "import matplotlib\n",
    "import seaborn as sns\n",
    "import matplotlib.pyplot as plt\n",
    "IMG_SIZE = 224\n",
    "BATCH_SIZE = 32\n",
    "NO_EPOCHS = 50\n",
    "NUM_CLASSES = 2\n",
    "DATA_FOLDER = \"../input/ocular-disease-recognition-odir5k/ODIR-5K/ODIR-5K/Training Images\"\n",
    "from sklearn.model_selection import train_test_split\n",
    "from sklearn.metrics import classification_report\n",
    "from tqdm import tqdm\n",
    "import cv2 as cv\n",
    "from random import shuffle \n",
    "from IPython.display import SVG\n",
    "from keras.utils.vis_utils import model_to_dot\n",
    "from tensorflow.keras.utils import plot_model\n",
    "from tensorflow.keras.applications import ResNet50\n",
    "from tensorflow.python.keras.models import Sequential\n",
    "from tensorflow.python.keras.layers import Dense, Flatten, GlobalAveragePooling2D\n",
    "import tensorflow_addons as tfa\n",
    "import tensorflow as tf\n",
    "%matplotlib inline "
   ]
  },
  {
   "cell_type": "markdown",
   "metadata": {
    "papermill": {
     "duration": 0.014604,
     "end_time": "2020-08-19T19:56:03.563063",
     "exception": false,
     "start_time": "2020-08-19T19:56:03.548459",
     "status": "completed"
    },
    "tags": []
   },
   "source": [
    "\n",
    "## Load tabelar data (Excel)"
   ]
  },
  {
   "cell_type": "code",
   "execution_count": 8,
   "metadata": {
    "_cell_guid": "79c7e3d0-c299-4dcb-8224-4455121ee9b0",
    "_kg_hide-input": true,
    "_uuid": "d629ff2d2480ee46fbb7e2d37f6b5fab8052498a",
    "execution": {
     "iopub.execute_input": "2022-05-10T11:42:41.226572Z",
     "iopub.status.busy": "2022-05-10T11:42:41.225891Z",
     "iopub.status.idle": "2022-05-10T11:42:42.287196Z",
     "shell.execute_reply": "2022-05-10T11:42:42.286438Z",
     "shell.execute_reply.started": "2022-05-10T11:42:41.226535Z"
    },
    "papermill": {
     "duration": 1.457065,
     "end_time": "2020-08-19T19:56:05.035245",
     "exception": false,
     "start_time": "2020-08-19T19:56:03.57818",
     "status": "completed"
    },
    "tags": []
   },
   "outputs": [],
   "source": [
    "data_df = pd.read_excel(open(\"../input/ocular-disease-recognition-odir5k/ODIR-5K/ODIR-5K/data.xlsx\", 'rb'), sheet_name='Sheet1')  "
   ]
  },
  {
   "cell_type": "code",
   "execution_count": 9,
   "metadata": {
    "_kg_hide-input": true,
    "execution": {
     "iopub.execute_input": "2022-05-10T11:42:43.585745Z",
     "iopub.status.busy": "2022-05-10T11:42:43.585080Z",
     "iopub.status.idle": "2022-05-10T11:42:43.590560Z",
     "shell.execute_reply": "2022-05-10T11:42:43.589830Z",
     "shell.execute_reply.started": "2022-05-10T11:42:43.585706Z"
    },
    "papermill": {
     "duration": 0.026803,
     "end_time": "2020-08-19T19:56:05.176836",
     "exception": false,
     "start_time": "2020-08-19T19:56:05.150033",
     "status": "completed"
    },
    "tags": []
   },
   "outputs": [],
   "source": [
    "data_df.columns = [\"id\", 'age', \"sex\", \"left_fundus\", \"right_fundus\", \"left_diagnosys\", \"right_diagnosys\", \"normal\",\n",
    "                  \"diabetes\", \"glaucoma\", \"cataract\", \"amd\", \"hypertension\", \"myopia\", \"other\"]"
   ]
  },
  {
   "cell_type": "markdown",
   "metadata": {
    "papermill": {
     "duration": 0.015044,
     "end_time": "2020-08-19T19:56:05.207439",
     "exception": false,
     "start_time": "2020-08-19T19:56:05.192395",
     "status": "completed"
    },
    "tags": []
   },
   "source": [
    "# Train images\n",
    "\n",
    "Let's check which images have the `hypertension` flag positive and which images have the eye diagnosys associated clearly stating either `hypertension` or `normal`\n"
   ]
  },
  {
   "cell_type": "code",
   "execution_count": 10,
   "metadata": {
    "execution": {
     "iopub.execute_input": "2022-05-10T11:42:44.945205Z",
     "iopub.status.busy": "2022-05-10T11:42:44.944636Z",
     "iopub.status.idle": "2022-05-10T11:42:44.957634Z",
     "shell.execute_reply": "2022-05-10T11:42:44.956725Z",
     "shell.execute_reply.started": "2022-05-10T11:42:44.945163Z"
    }
   },
   "outputs": [],
   "source": [
    "print(data_df.loc[(data_df.hypertension==1)].shape)\n",
    "print(data_df.loc[data_df.hypertension==0].shape)"
   ]
  },
  {
   "cell_type": "code",
   "execution_count": 11,
   "metadata": {
    "execution": {
     "iopub.execute_input": "2022-05-10T11:42:45.411315Z",
     "iopub.status.busy": "2022-05-10T11:42:45.410759Z",
     "iopub.status.idle": "2022-05-10T11:42:45.423619Z",
     "shell.execute_reply": "2022-05-10T11:42:45.422826Z",
     "shell.execute_reply.started": "2022-05-10T11:42:45.411275Z"
    }
   },
   "outputs": [],
   "source": [
    "data_df.loc[(data_df.hypertension==1)]['left_diagnosys'].value_counts()"
   ]
  },
  {
   "cell_type": "code",
   "execution_count": 12,
   "metadata": {
    "execution": {
     "iopub.execute_input": "2022-05-10T11:42:45.965547Z",
     "iopub.status.busy": "2022-05-10T11:42:45.964849Z",
     "iopub.status.idle": "2022-05-10T11:42:45.977188Z",
     "shell.execute_reply": "2022-05-10T11:42:45.976490Z",
     "shell.execute_reply.started": "2022-05-10T11:42:45.965508Z"
    }
   },
   "outputs": [],
   "source": [
    "data_df.loc[(data_df.hypertension==1)]['right_diagnosys'].value_counts()"
   ]
  },
  {
   "cell_type": "code",
   "execution_count": 13,
   "metadata": {
    "execution": {
     "iopub.execute_input": "2022-05-10T11:42:46.485085Z",
     "iopub.status.busy": "2022-05-10T11:42:46.484634Z",
     "iopub.status.idle": "2022-05-10T11:42:46.489499Z",
     "shell.execute_reply": "2022-05-10T11:42:46.488691Z",
     "shell.execute_reply.started": "2022-05-10T11:42:46.485046Z"
    }
   },
   "outputs": [],
   "source": [
    "def has_hypertension_mentioned(text):\n",
    "    if 'hypertension' in text:\n",
    "        return 1\n",
    "    else:\n",
    "        return 0"
   ]
  },
  {
   "cell_type": "code",
   "execution_count": 14,
   "metadata": {
    "execution": {
     "iopub.execute_input": "2022-05-10T11:42:46.825500Z",
     "iopub.status.busy": "2022-05-10T11:42:46.824938Z",
     "iopub.status.idle": "2022-05-10T11:42:46.837599Z",
     "shell.execute_reply": "2022-05-10T11:42:46.836627Z",
     "shell.execute_reply.started": "2022-05-10T11:42:46.825462Z"
    }
   },
   "outputs": [],
   "source": [
    "data_df['le_hypertension'] = data_df['left_diagnosys'].apply(lambda x: has_hypertension_mentioned(x))\n",
    "data_df['re_hypertension'] = data_df['right_diagnosys'].apply(lambda x: has_hypertension_mentioned(x))"
   ]
  },
  {
   "cell_type": "code",
   "execution_count": 15,
   "metadata": {
    "execution": {
     "iopub.execute_input": "2022-05-10T11:42:47.105499Z",
     "iopub.status.busy": "2022-05-10T11:42:47.105089Z",
     "iopub.status.idle": "2022-05-10T11:42:47.124641Z",
     "shell.execute_reply": "2022-05-10T11:42:47.123624Z",
     "shell.execute_reply.started": "2022-05-10T11:42:47.105464Z"
    }
   },
   "outputs": [],
   "source": [
    "hypertension_le_list = data_df.loc[(data_df.hypertension==1) & (data_df.le_hypertension==1)]['left_fundus'].values\n",
    "hypertension_re_list = data_df.loc[(data_df.hypertension==1) & (data_df.re_hypertension==1)]['right_fundus'].values\n",
    "print(len(hypertension_le_list), len(hypertension_re_list))\n",
    "non_hypertension_le_list = data_df.loc[(data_df.hypertension==0) & (data_df.left_diagnosys==\"normal fundus\")]['left_fundus'].sample(150, random_state=314).values\n",
    "non_hypertension_re_list = data_df.loc[(data_df.hypertension==0) & (data_df.right_diagnosys==\"normal fundus\")]['right_fundus'].sample(150, random_state=314).values\n",
    "print(len(non_hypertension_le_list), len(non_hypertension_re_list))"
   ]
  },
  {
   "cell_type": "code",
   "execution_count": 16,
   "metadata": {
    "execution": {
     "iopub.execute_input": "2022-05-10T11:42:47.405457Z",
     "iopub.status.busy": "2022-05-10T11:42:47.404879Z",
     "iopub.status.idle": "2022-05-10T11:42:47.412752Z",
     "shell.execute_reply": "2022-05-10T11:42:47.411867Z",
     "shell.execute_reply.started": "2022-05-10T11:42:47.405417Z"
    }
   },
   "outputs": [],
   "source": [
    "hypertension_list = np.concatenate((hypertension_le_list, hypertension_re_list), axis = 0)\n",
    "non_hypertension_list = np.concatenate((non_hypertension_le_list, non_hypertension_re_list), axis = 0)\n",
    "print(len(non_hypertension_list), len(hypertension_list))"
   ]
  },
  {
   "cell_type": "code",
   "execution_count": 17,
   "metadata": {
    "execution": {
     "iopub.execute_input": "2022-05-10T11:42:47.710036Z",
     "iopub.status.busy": "2022-05-10T11:42:47.709500Z",
     "iopub.status.idle": "2022-05-10T11:42:47.905429Z",
     "shell.execute_reply": "2022-05-10T11:42:47.904667Z",
     "shell.execute_reply.started": "2022-05-10T11:42:47.709998Z"
    }
   },
   "outputs": [],
   "source": [
    "print(len(os.listdir(DATA_FOLDER)))"
   ]
  },
  {
   "cell_type": "code",
   "execution_count": 18,
   "metadata": {
    "execution": {
     "iopub.execute_input": "2022-05-10T11:42:47.945555Z",
     "iopub.status.busy": "2022-05-10T11:42:47.945034Z",
     "iopub.status.idle": "2022-05-10T11:42:47.951868Z",
     "shell.execute_reply": "2022-05-10T11:42:47.951074Z",
     "shell.execute_reply.started": "2022-05-10T11:42:47.945522Z"
    }
   },
   "outputs": [],
   "source": [
    "def label_image(label):\n",
    "    if label == 1:\n",
    "        return [1,0]\n",
    "    elif label == 0: \n",
    "        return [0,1]\n",
    "\n",
    "def process_data(data_image_list, DATA_FOLDER, is_hypertension):\n",
    "    data_df = []\n",
    "    for img in tqdm(data_image_list):\n",
    "        path = os.path.join(DATA_FOLDER,img)\n",
    "        label = label_image(is_hypertension)\n",
    "        img = cv.imread(path,cv.IMREAD_COLOR)\n",
    "        img = cv.resize(img, (IMG_SIZE,IMG_SIZE))\n",
    "        data_df.append([np.array(img),np.array(label)])\n",
    "    shuffle(data_df)\n",
    "    return data_df"
   ]
  },
  {
   "cell_type": "code",
   "execution_count": 19,
   "metadata": {
    "execution": {
     "iopub.execute_input": "2022-05-10T11:42:48.208237Z",
     "iopub.status.busy": "2022-05-10T11:42:48.205662Z",
     "iopub.status.idle": "2022-05-10T11:43:04.962007Z",
     "shell.execute_reply": "2022-05-10T11:43:04.961239Z",
     "shell.execute_reply.started": "2022-05-10T11:42:48.208159Z"
    }
   },
   "outputs": [],
   "source": [
    "cat_df = process_data(hypertension_list, DATA_FOLDER, 1)"
   ]
  },
  {
   "cell_type": "code",
   "execution_count": 20,
   "metadata": {
    "execution": {
     "iopub.execute_input": "2022-05-10T11:43:04.964402Z",
     "iopub.status.busy": "2022-05-10T11:43:04.963633Z",
     "iopub.status.idle": "2022-05-10T11:43:18.372998Z",
     "shell.execute_reply": "2022-05-10T11:43:18.372257Z",
     "shell.execute_reply.started": "2022-05-10T11:43:04.964362Z"
    }
   },
   "outputs": [],
   "source": [
    "cat_no_df = process_data(non_hypertension_list, DATA_FOLDER, 0)"
   ]
  },
  {
   "cell_type": "code",
   "execution_count": 21,
   "metadata": {
    "execution": {
     "iopub.execute_input": "2022-05-10T11:43:18.374417Z",
     "iopub.status.busy": "2022-05-10T11:43:18.374154Z",
     "iopub.status.idle": "2022-05-10T11:43:19.601437Z",
     "shell.execute_reply": "2022-05-10T11:43:19.599036Z",
     "shell.execute_reply.started": "2022-05-10T11:43:18.374382Z"
    }
   },
   "outputs": [],
   "source": [
    "def show_images(data, isTest=False):\n",
    "    f, ax = plt.subplots(5,5, figsize=(15,15))\n",
    "    for i,data in enumerate(data[:25]):\n",
    "        img_num = data[1]\n",
    "        img_data = data[0]\n",
    "        label = np.argmax(img_num)\n",
    "        if label  == 0: \n",
    "            str_label='hypertension'\n",
    "        elif label == 1: \n",
    "            str_label='No hypertension'\n",
    "        if(isTest):\n",
    "            str_label=\"None\"\n",
    "        ax[i//5, i%5].imshow(img_data)\n",
    "        ax[i//5, i%5].axis('off')\n",
    "        ax[i//5, i%5].set_title(\"Label: {}\".format(str_label))\n",
    "    plt.show()\n",
    "\n",
    "show_images(cat_df)"
   ]
  },
  {
   "cell_type": "code",
   "execution_count": 22,
   "metadata": {
    "execution": {
     "iopub.execute_input": "2022-05-10T11:43:19.603026Z",
     "iopub.status.busy": "2022-05-10T11:43:19.602787Z",
     "iopub.status.idle": "2022-05-10T11:43:20.981488Z",
     "shell.execute_reply": "2022-05-10T11:43:20.980823Z",
     "shell.execute_reply.started": "2022-05-10T11:43:19.602995Z"
    }
   },
   "outputs": [],
   "source": [
    "show_images(cat_no_df)"
   ]
  },
  {
   "cell_type": "code",
   "execution_count": 23,
   "metadata": {
    "execution": {
     "iopub.execute_input": "2022-05-10T11:43:22.846123Z",
     "iopub.status.busy": "2022-05-10T11:43:22.845598Z",
     "iopub.status.idle": "2022-05-10T11:43:24.054651Z",
     "shell.execute_reply": "2022-05-10T11:43:24.053841Z",
     "shell.execute_reply.started": "2022-05-10T11:43:22.846084Z"
    }
   },
   "outputs": [],
   "source": [
    "train = cat_df + cat_no_df\n",
    "shuffle(train)\n",
    "show_images(train)"
   ]
  },
  {
   "cell_type": "code",
   "execution_count": 24,
   "metadata": {
    "execution": {
     "iopub.execute_input": "2022-05-10T11:43:24.056628Z",
     "iopub.status.busy": "2022-05-10T11:43:24.056254Z",
     "iopub.status.idle": "2022-05-10T11:43:24.094686Z",
     "shell.execute_reply": "2022-05-10T11:43:24.093970Z",
     "shell.execute_reply.started": "2022-05-10T11:43:24.056591Z"
    }
   },
   "outputs": [],
   "source": [
    "X = np.array([i[0] for i in train]).reshape(-1,IMG_SIZE,IMG_SIZE,3)\n",
    "y = np.array([i[1] for i in train])"
   ]
  },
  {
   "cell_type": "markdown",
   "metadata": {},
   "source": [
    "# Train model"
   ]
  },
  {
   "cell_type": "code",
   "execution_count": 25,
   "metadata": {
    "execution": {
     "iopub.execute_input": "2022-05-10T11:43:27.304790Z",
     "iopub.status.busy": "2022-05-10T11:43:27.304534Z",
     "iopub.status.idle": "2022-05-10T11:43:33.681791Z",
     "shell.execute_reply": "2022-05-10T11:43:33.681086Z",
     "shell.execute_reply.started": "2022-05-10T11:43:27.304761Z"
    }
   },
   "outputs": [],
   "source": [
    "model = Sequential()\n",
    "model.add(ResNet50(include_top=False, pooling='max', weights='imagenet'))\n",
    "model.add(Dense(NUM_CLASSES, activation='softmax'))\n",
    "# ResNet-50 model is already trained, should not be trained\n",
    "model.layers[0].trainable = True"
   ]
  },
  {
   "cell_type": "code",
   "execution_count": 26,
   "metadata": {
    "execution": {
     "iopub.execute_input": "2022-05-10T11:43:34.324781Z",
     "iopub.status.busy": "2022-05-10T11:43:34.324278Z",
     "iopub.status.idle": "2022-05-10T11:43:34.347804Z",
     "shell.execute_reply": "2022-05-10T11:43:34.346331Z",
     "shell.execute_reply.started": "2022-05-10T11:43:34.324744Z"
    }
   },
   "outputs": [],
   "source": [
    "opt = tfa.optimizers.LazyAdam()\n",
    "loss = tf.keras.losses.CategoricalCrossentropy(label_smoothing=0.025)\n",
    "model.compile(optimizer='sgd', loss=loss, metrics=['accuracy'])"
   ]
  },
  {
   "cell_type": "code",
   "execution_count": 27,
   "metadata": {
    "execution": {
     "iopub.execute_input": "2022-05-10T11:43:35.330082Z",
     "iopub.status.busy": "2022-05-10T11:43:35.329379Z",
     "iopub.status.idle": "2022-05-10T11:43:35.349697Z",
     "shell.execute_reply": "2022-05-10T11:43:35.348521Z",
     "shell.execute_reply.started": "2022-05-10T11:43:35.330044Z"
    }
   },
   "outputs": [],
   "source": [
    "model.build((None,224,224,3)) # `input_shape` is the shape of the input data\n",
    "model.summary()"
   ]
  },
  {
   "cell_type": "code",
   "execution_count": 28,
   "metadata": {
    "execution": {
     "iopub.execute_input": "2022-05-10T11:43:37.585203Z",
     "iopub.status.busy": "2022-05-10T11:43:37.584381Z",
     "iopub.status.idle": "2022-05-10T11:43:38.572739Z",
     "shell.execute_reply": "2022-05-10T11:43:38.571863Z",
     "shell.execute_reply.started": "2022-05-10T11:43:37.585164Z"
    }
   },
   "outputs": [],
   "source": [
    "plot_model(model, to_file='model.png')\n",
    "SVG(model_to_dot(model).create(prog='dot', format='svg'))"
   ]
  },
  {
   "cell_type": "code",
   "execution_count": 29,
   "metadata": {
    "execution": {
     "iopub.execute_input": "2022-05-10T11:43:41.545407Z",
     "iopub.status.busy": "2022-05-10T11:43:41.544826Z",
     "iopub.status.idle": "2022-05-10T11:43:41.590037Z",
     "shell.execute_reply": "2022-05-10T11:43:41.589225Z",
     "shell.execute_reply.started": "2022-05-10T11:43:41.545366Z"
    }
   },
   "outputs": [],
   "source": [
    "X_train, X_val, y_train, y_val = train_test_split(X, y, test_size=0.2, random_state=42,stratify=y)"
   ]
  },
  {
   "cell_type": "markdown",
   "metadata": {},
   "source": [
    "## Train model"
   ]
  },
  {
   "cell_type": "code",
   "execution_count": 30,
   "metadata": {
    "execution": {
     "iopub.execute_input": "2022-05-10T11:43:43.665196Z",
     "iopub.status.busy": "2022-05-10T11:43:43.664615Z",
     "iopub.status.idle": "2022-05-10T11:46:13.804352Z",
     "shell.execute_reply": "2022-05-10T11:46:13.803592Z",
     "shell.execute_reply.started": "2022-05-10T11:43:43.665157Z"
    }
   },
   "outputs": [],
   "source": [
    "train_model = model.fit(X_train, y_train,\n",
    "                  batch_size=BATCH_SIZE,\n",
    "                  epochs=NO_EPOCHS,\n",
    "                  verbose=1,\n",
    "                  validation_data=(X_val, y_val))"
   ]
  },
  {
   "cell_type": "markdown",
   "metadata": {},
   "source": [
    "## Validation results"
   ]
  },
  {
   "cell_type": "code",
   "execution_count": 31,
   "metadata": {
    "execution": {
     "iopub.execute_input": "2022-05-10T11:49:11.659899Z",
     "iopub.status.busy": "2022-05-10T11:49:11.659620Z",
     "iopub.status.idle": "2022-05-10T11:49:12.241267Z",
     "shell.execute_reply": "2022-05-10T11:49:12.240575Z",
     "shell.execute_reply.started": "2022-05-10T11:49:11.659869Z"
    }
   },
   "outputs": [],
   "source": [
    "def plot_accuracy_and_loss(train_model):\n",
    "    hist = train_model.history\n",
    "    acc = hist['accuracy']\n",
    "    val_acc = hist['val_accuracy']\n",
    "    loss = hist['loss']\n",
    "    val_loss = hist['val_loss']\n",
    "    epochs = range(len(acc))\n",
    "    f, ax = plt.subplots(1,2, figsize=(14,6))\n",
    "    ax[0].plot(epochs, acc, 'g', label='Training accuracy')\n",
    "    ax[0].plot(epochs, val_acc, 'r', label='Validation accuracy')\n",
    "    ax[0].set_title('Training and validation accuracy')\n",
    "    ax[0].legend()\n",
    "    ax[1].plot(epochs, loss, 'g', label='Training loss')\n",
    "    ax[1].plot(epochs, val_loss, 'r', label='Validation loss')\n",
    "    ax[1].set_title('Training and validation loss')\n",
    "    ax[1].legend()\n",
    "    plt.show()\n",
    "plot_accuracy_and_loss(train_model)"
   ]
  },
  {
   "cell_type": "code",
   "execution_count": 32,
   "metadata": {
    "execution": {
     "iopub.execute_input": "2022-05-10T11:49:14.533509Z",
     "iopub.status.busy": "2022-05-10T11:49:14.533230Z",
     "iopub.status.idle": "2022-05-10T11:49:14.806950Z",
     "shell.execute_reply": "2022-05-10T11:49:14.806200Z",
     "shell.execute_reply.started": "2022-05-10T11:49:14.533479Z"
    }
   },
   "outputs": [],
   "source": [
    "score = model.evaluate(X_val, y_val, verbose=0)\n",
    "print('Validation loss:', score[0])\n",
    "print('Validation accuracy:', score[1])"
   ]
  },
  {
   "cell_type": "code",
   "execution_count": 33,
   "metadata": {
    "execution": {
     "iopub.execute_input": "2022-05-10T11:49:15.223501Z",
     "iopub.status.busy": "2022-05-10T11:49:15.222859Z",
     "iopub.status.idle": "2022-05-10T11:49:16.215783Z",
     "shell.execute_reply": "2022-05-10T11:49:16.215024Z",
     "shell.execute_reply.started": "2022-05-10T11:49:15.223465Z"
    }
   },
   "outputs": [],
   "source": [
    "#get the predictions for the test data\n",
    "predicted_classes = model.predict_classes(X_val)\n",
    "#get the indices to be plotted\n",
    "y_true = np.argmax(y_val,axis=1)"
   ]
  },
  {
   "cell_type": "code",
   "execution_count": 34,
   "metadata": {
    "execution": {
     "iopub.execute_input": "2022-05-10T11:49:17.093574Z",
     "iopub.status.busy": "2022-05-10T11:49:17.093024Z",
     "iopub.status.idle": "2022-05-10T11:49:17.099528Z",
     "shell.execute_reply": "2022-05-10T11:49:17.098630Z",
     "shell.execute_reply.started": "2022-05-10T11:49:17.093537Z"
    }
   },
   "outputs": [],
   "source": [
    "correct = np.nonzero(predicted_classes==y_true)[0]\n",
    "incorrect = np.nonzero(predicted_classes!=y_true)[0]"
   ]
  },
  {
   "cell_type": "code",
   "execution_count": 35,
   "metadata": {
    "execution": {
     "iopub.execute_input": "2022-05-10T11:49:17.913482Z",
     "iopub.status.busy": "2022-05-10T11:49:17.913189Z",
     "iopub.status.idle": "2022-05-10T11:49:17.925585Z",
     "shell.execute_reply": "2022-05-10T11:49:17.924380Z",
     "shell.execute_reply.started": "2022-05-10T11:49:17.913451Z"
    }
   },
   "outputs": [],
   "source": [
    "target_names = [\"hypertension\", \"Normal\"]\n",
    "print(classification_report(y_true, predicted_classes, target_names=target_names))"
   ]
  },
  {
   "cell_type": "code",
   "execution_count": 37,
   "metadata": {
    "execution": {
     "iopub.execute_input": "2022-05-10T11:50:10.129743Z",
     "iopub.status.busy": "2022-05-10T11:50:10.129462Z",
     "iopub.status.idle": "2022-05-10T11:50:10.486021Z",
     "shell.execute_reply": "2022-05-10T11:50:10.485269Z",
     "shell.execute_reply.started": "2022-05-10T11:50:10.129712Z"
    }
   },
   "outputs": [],
   "source": [
    "model.save(\"resnet hypertension.h5\")"
   ]
  },
  {
   "cell_type": "code",
   "execution_count": null,
   "metadata": {},
   "outputs": [],
   "source": []
  }
 ],
 "metadata": {
  "kernelspec": {
   "display_name": "Python 3",
   "language": "python",
   "name": "python3"
  },
  "language_info": {
   "codemirror_mode": {
    "name": "ipython",
    "version": 3
   },
   "file_extension": ".py",
   "mimetype": "text/x-python",
   "name": "python",
   "nbconvert_exporter": "python",
   "pygments_lexer": "ipython3",
   "version": "3.9.7"
  }
 },
 "nbformat": 4,
 "nbformat_minor": 4
}
